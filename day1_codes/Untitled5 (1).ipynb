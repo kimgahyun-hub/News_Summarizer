{
  "nbformat": 4,
  "nbformat_minor": 0,
  "metadata": {
    "colab": {
      "provenance": []
    },
    "kernelspec": {
      "name": "python3",
      "display_name": "Python 3"
    },
    "language_info": {
      "name": "python"
    }
  },
  "cells": [
    {
      "cell_type": "code",
      "source": [
        "!pip install newsapi-python"
      ],
      "metadata": {
        "colab": {
          "base_uri": "https://localhost:8080/"
        },
        "id": "oFp8PI9jn2Xg",
        "outputId": "9593e2bf-0588-4106-c7cd-a0b0004fe562"
      },
      "execution_count": 32,
      "outputs": [
        {
          "output_type": "stream",
          "name": "stdout",
          "text": [
            "Collecting newsapi-python\n",
            "  Downloading newsapi_python-0.2.7-py2.py3-none-any.whl.metadata (1.2 kB)\n",
            "Requirement already satisfied: requests<3.0.0 in /usr/local/lib/python3.10/dist-packages (from newsapi-python) (2.32.3)\n",
            "Requirement already satisfied: charset-normalizer<4,>=2 in /usr/local/lib/python3.10/dist-packages (from requests<3.0.0->newsapi-python) (3.3.2)\n",
            "Requirement already satisfied: idna<4,>=2.5 in /usr/local/lib/python3.10/dist-packages (from requests<3.0.0->newsapi-python) (3.7)\n",
            "Requirement already satisfied: urllib3<3,>=1.21.1 in /usr/local/lib/python3.10/dist-packages (from requests<3.0.0->newsapi-python) (2.0.7)\n",
            "Requirement already satisfied: certifi>=2017.4.17 in /usr/local/lib/python3.10/dist-packages (from requests<3.0.0->newsapi-python) (2024.7.4)\n",
            "Downloading newsapi_python-0.2.7-py2.py3-none-any.whl (7.9 kB)\n",
            "Installing collected packages: newsapi-python\n",
            "Successfully installed newsapi-python-0.2.7\n"
          ]
        }
      ]
    },
    {
      "cell_type": "code",
      "source": [
        "import requests\n",
        "\n",
        "# 네이버 API 키 설정\n",
        "client_id = 'xIpH54vcwURuvzz8t0vl'\n",
        "client_secret = 'dfHi2SP3CQ'\n",
        "\n",
        "# API 요청 URL\n",
        "url = 'https://openapi.naver.com/v1/search/news.json'\n",
        "\n",
        "# 카테고리 매핑 (네이버 뉴스 API는 카테고리를 지원하지 않으므로 검색어를 사용)\n",
        "categories = {\n",
        "    '경제': '경제',\n",
        "    'IT': 'IT',\n",
        "    '과학': '과학',\n",
        "    '사회': '사회',\n",
        "    '문화': '문화',\n",
        "    '스포츠': '스포츠',\n",
        "    '건강': '건강'\n",
        "}\n",
        "\n",
        "# 사용자로부터 카테고리 선택 받기\n",
        "print(\"카테고리를 선택하세요: 경제, IT, 과학, 사회, 문화, 스포츠, 건강\")\n",
        "user_choice = input(\"선택한 카테고리: \")\n",
        "\n",
        "# 유효한 카테고리인지 확인\n",
        "if user_choice in categories:\n",
        "    search_keyword = categories[user_choice]\n",
        "else:\n",
        "    print(\"유효하지 않은 카테고리입니다. 기본적으로 '경제' 카테고리를 선택합니다.\")\n",
        "    search_keyword = '경제'\n",
        "\n",
        "# 파라미터 설정\n",
        "params = {\n",
        "    'query': search_keyword,  # 검색어\n",
        "    'display': 5,            # 5개의 뉴스 가져오기\n",
        "    'sort': 'date'           # 날짜 기준 정렬\n",
        "}\n",
        "\n",
        "# 헤더 설정\n",
        "headers = {\n",
        "    'X-Naver-Client-Id': client_id,\n",
        "    'X-Naver-Client-Secret': client_secret\n",
        "}\n",
        "\n",
        "# API 요청\n",
        "response = requests.get(url, headers=headers, params=params)\n",
        "\n",
        "# 응답을 JSON 형태로 파싱\n",
        "data = response.json()\n",
        "\n",
        "# 뉴스 정보 출력\n",
        "if 'items' in data:\n",
        "    articles = data['items']\n",
        "    for i, article in enumerate(articles, 1):\n",
        "        title = article['title']\n",
        "        description = article['description']\n",
        "        link = article['link']\n",
        "        pub_date = article['pubDate']\n",
        "\n",
        "        print(f\"뉴스 {i}:\")\n",
        "        print(f\"제목: {title}\")\n",
        "        print(f\"내용: {description}\")\n",
        "        print(f\"URL: {link}\")\n",
        "        print(f\"발행일: {pub_date}\")\n",
        "        print(\"-\" * 80)\n",
        "else:\n",
        "    print(\"뉴스를 가져오는데 실패했습니다.\")\n"
      ],
      "metadata": {
        "colab": {
          "base_uri": "https://localhost:8080/"
        },
        "id": "dPg7aMy-n3JZ",
        "outputId": "53669f2d-77ab-4a24-b776-eb94b532b47a"
      },
      "execution_count": 40,
      "outputs": [
        {
          "output_type": "stream",
          "name": "stdout",
          "text": [
            "카테고리를 선택하세요: 경제, IT, 과학, 사회, 문화, 스포츠, 건강\n",
            "선택한 카테고리: 과학\n",
            "뉴스 1:\n",
            "제목: 티베트 빙하 300m 속에서 1700종 넘는 ‘고대 바이러스’ 발견 [와우! 과...\n",
            "내용: 최근 미국 오하이오주립대학 등 공동연구팀은 중국 티베트 굴리야 빙하에서 총 1705종의 바이러스를 발견했다는 논문을 <b>과학</b>저널 네이처 지구<b>과학</b>(Nature Geoscience) 최신호에 발표했다. 이번에 발견된 바이러스들은 굴리야... \n",
            "URL: https://n.news.naver.com/mnews/article/081/0003475623?sid=105\n",
            "발행일: Wed, 28 Aug 2024 10:59:00 +0900\n",
            "--------------------------------------------------------------------------------\n",
            "뉴스 2:\n",
            "제목: 서울대·DGIST, 차세대 디스플레이 위한 금속 박막 기술 개발\n",
            "내용: 홍용택 서울대학교 공과대학 전기·정보공학부 교수 연구진은 이병문 대구경북<b>과학</b>기술원(DGIST) 전기전자컴퓨터공학과 교수와 함께 다양한 형태의 고성능 소프트 전자소자와 회로를 쉽고 빠르게 제작할 수 있는... \n",
            "URL: https://n.news.naver.com/mnews/article/366/0001014305?sid=105\n",
            "발행일: Wed, 28 Aug 2024 10:59:00 +0900\n",
            "--------------------------------------------------------------------------------\n",
            "뉴스 3:\n",
            "제목: 서울대 공대 전기정보공학부 홍용택 교수팀, 다양한 폼팩터의 소프트 전...\n",
            "내용: 이번 연구 결과는 22일 세계적 <b>과학</b>저널인 '네이처 커뮤니케이션즈'에 게재됐다. 기상 증착(Vapor Deposition)... 본 연구는 <b>과학</b>기술정보통신부의 지원을 받아 수행됐다. 사진=서울대 제공 ▲교육전문신문... \n",
            "URL: http://www.veritas-a.com/news/articleView.html?idxno=517598\n",
            "발행일: Wed, 28 Aug 2024 10:58:00 +0900\n",
            "--------------------------------------------------------------------------------\n",
            "뉴스 4:\n",
            "제목: 대구 직업계고 3개팀 태국 교육부 주최 국제대회 참가\n",
            "내용: 경북기계공고, 대구<b>과학</b>기술고 등 직업계고 총 3개팀 9명의 학생들이 참가한다고 28일 밝혔다. 이 국제대회는 27일~ 30일 태국 치앙마이에서 열린다. 공학·응용<b>과학</b> 분야 혁신 프로젝트 발표를 통해 <b>과학</b>과 기술에 관한... \n",
            "URL: https://n.news.naver.com/mnews/article/079/0003932262?sid=102\n",
            "발행일: Wed, 28 Aug 2024 10:58:00 +0900\n",
            "--------------------------------------------------------------------------------\n",
            "뉴스 5:\n",
            "제목: 의대 증원 유예 주장에 복지장관 &quot;의료개혁 차질없이 추진&quot;\n",
            "내용: 정부는 의대 정원 증원 규모 2000명은 정부의 <b>과학</b>적 검토에 따른 최종 결론임을 되풀이하면서도 의료계가 대화에 참여할 경우 객관적·<b>과학</b>적 근거를 바탕으로 조정할 수 있다는 입장이다. 내후년 의대 정원 보류가 아닌... \n",
            "URL: https://www.pennmike.com/news/articleView.html?idxno=86740\n",
            "발행일: Wed, 28 Aug 2024 10:58:00 +0900\n",
            "--------------------------------------------------------------------------------\n"
          ]
        }
      ]
    },
    {
      "cell_type": "code",
      "source": [
        "!pip install requests beautifulsoup4\n"
      ],
      "metadata": {
        "colab": {
          "base_uri": "https://localhost:8080/"
        },
        "id": "iIn_oy2hZ4b4",
        "outputId": "90d5d0c1-180d-48ae-ebcf-6db372ba066e"
      },
      "execution_count": 41,
      "outputs": [
        {
          "output_type": "stream",
          "name": "stdout",
          "text": [
            "Requirement already satisfied: requests in /usr/local/lib/python3.10/dist-packages (2.32.3)\n",
            "Requirement already satisfied: beautifulsoup4 in /usr/local/lib/python3.10/dist-packages (4.12.3)\n",
            "Requirement already satisfied: charset-normalizer<4,>=2 in /usr/local/lib/python3.10/dist-packages (from requests) (3.3.2)\n",
            "Requirement already satisfied: idna<4,>=2.5 in /usr/local/lib/python3.10/dist-packages (from requests) (3.7)\n",
            "Requirement already satisfied: urllib3<3,>=1.21.1 in /usr/local/lib/python3.10/dist-packages (from requests) (2.0.7)\n",
            "Requirement already satisfied: certifi>=2017.4.17 in /usr/local/lib/python3.10/dist-packages (from requests) (2024.7.4)\n",
            "Requirement already satisfied: soupsieve>1.2 in /usr/local/lib/python3.10/dist-packages (from beautifulsoup4) (2.6)\n"
          ]
        }
      ]
    },
    {
      "cell_type": "code",
      "source": [
        "import requests\n",
        "from bs4 import BeautifulSoup\n",
        "\n",
        "def extract_text_from_url(url):\n",
        "    try:\n",
        "        # 웹페이지 내용 요청\n",
        "        response = requests.get(url)\n",
        "\n",
        "        # 요청이 성공했는지 확인\n",
        "        if response.status_code != 200:\n",
        "            print(f\"Failed to retrieve the web page. Status code: {response.status_code}\")\n",
        "            return \"\"\n",
        "\n",
        "        # BeautifulSoup을 사용하여 HTML 파싱\n",
        "        soup = BeautifulSoup(response.content, 'html.parser')\n",
        "\n",
        "        # 불필요한 스크립트 및 스타일 태그 제거\n",
        "        for script_or_style in soup(['script', 'style']):\n",
        "            script_or_style.decompose()\n",
        "\n",
        "        # 모든 텍스트 추출\n",
        "        text = soup.get_text(separator=' ')\n",
        "\n",
        "        # 앞뒤 불필요한 공백 제거\n",
        "        text = ' '.join(text.split())\n",
        "\n",
        "        return text\n",
        "\n",
        "    except requests.exceptions.RequestException as e:\n",
        "        print(f\"Error during requests to {url}: {str(e)}\")\n",
        "        return \"\"\n",
        "\n",
        "# 테스트 URL\n",
        "url ={link}  # 여기에 실제 뉴스 기사 URL을 입력하세요\n",
        "extracted_text = extract_text_from_url(url)\n",
        "\n",
        "# 추출된 텍스트 출력 (처음 3000자만 출력)\n",
        "article=extracted_text[:3000]\n",
        "print(article)\n"
      ],
      "metadata": {
        "colab": {
          "base_uri": "https://localhost:8080/"
        },
        "id": "Ilw1AEUjZ8CC",
        "outputId": "b010bb18-f6d1-49ce-8a8c-20b9778606b5"
      },
      "execution_count": 43,
      "outputs": [
        {
          "output_type": "stream",
          "name": "stdout",
          "text": [
            "Error during requests to {'https://www.pennmike.com/news/articleView.html?idxno=86740'}: No connection adapters were found for \"{'https://www.pennmike.com/news/articleView.html?idxno=86740'}\"\n",
            "\n"
          ]
        }
      ]
    },
    {
      "cell_type": "code",
      "source": [
        "#일단 요약할 수 있는 거라도 만들자 해서 요약 잘되는 것으로.\n",
        "# 필요한 라이브러리 설치\n",
        "!pip install sumy\n",
        "!pip install konlpy\n",
        "\n",
        "# 라이브러리 가져오기\n",
        "from sumy.parsers.plaintext import PlaintextParser\n",
        "from sumy.nlp.tokenizers import Tokenizer\n",
        "from sumy.summarizers.text_rank import TextRankSummarizer\n",
        "\n",
        "# 요약할 텍스트\n",
        "article_text = article\n",
        "\n",
        "# 텍스트 파싱\n",
        "parser = PlaintextParser.from_string(article_text, Tokenizer(\"korean\"))\n",
        "\n",
        "# TextRank Summarizer 생성\n",
        "summarizer = TextRankSummarizer()\n",
        "\n",
        "# 요약 (3문장으로 요약)\n",
        "summary = summarizer(parser.document, 3)\n",
        "for sentence in summary:\n",
        "    print(sentence)\n",
        "    sentence=summary\n"
      ],
      "metadata": {
        "colab": {
          "base_uri": "https://localhost:8080/"
        },
        "id": "pgBhIA9Jlkvb",
        "outputId": "6da12bd9-241a-4664-8f76-1ab7a863e9ef"
      },
      "execution_count": 30,
      "outputs": [
        {
          "output_type": "stream",
          "name": "stdout",
          "text": [
            "Requirement already satisfied: sumy in /usr/local/lib/python3.10/dist-packages (0.11.0)\n",
            "Requirement already satisfied: docopt<0.7,>=0.6.1 in /usr/local/lib/python3.10/dist-packages (from sumy) (0.6.2)\n",
            "Requirement already satisfied: breadability>=0.1.20 in /usr/local/lib/python3.10/dist-packages (from sumy) (0.1.20)\n",
            "Requirement already satisfied: requests>=2.7.0 in /usr/local/lib/python3.10/dist-packages (from sumy) (2.32.3)\n",
            "Requirement already satisfied: pycountry>=18.2.23 in /usr/local/lib/python3.10/dist-packages (from sumy) (24.6.1)\n",
            "Requirement already satisfied: nltk>=3.0.2 in /usr/local/lib/python3.10/dist-packages (from sumy) (3.8.1)\n",
            "Requirement already satisfied: chardet in /usr/local/lib/python3.10/dist-packages (from breadability>=0.1.20->sumy) (5.2.0)\n",
            "Requirement already satisfied: lxml>=2.0 in /usr/local/lib/python3.10/dist-packages (from breadability>=0.1.20->sumy) (4.9.4)\n",
            "Requirement already satisfied: click in /usr/local/lib/python3.10/dist-packages (from nltk>=3.0.2->sumy) (8.1.7)\n",
            "Requirement already satisfied: joblib in /usr/local/lib/python3.10/dist-packages (from nltk>=3.0.2->sumy) (1.4.2)\n",
            "Requirement already satisfied: regex>=2021.8.3 in /usr/local/lib/python3.10/dist-packages (from nltk>=3.0.2->sumy) (2024.5.15)\n",
            "Requirement already satisfied: tqdm in /usr/local/lib/python3.10/dist-packages (from nltk>=3.0.2->sumy) (4.66.5)\n",
            "Requirement already satisfied: charset-normalizer<4,>=2 in /usr/local/lib/python3.10/dist-packages (from requests>=2.7.0->sumy) (3.3.2)\n",
            "Requirement already satisfied: idna<4,>=2.5 in /usr/local/lib/python3.10/dist-packages (from requests>=2.7.0->sumy) (3.7)\n",
            "Requirement already satisfied: urllib3<3,>=1.21.1 in /usr/local/lib/python3.10/dist-packages (from requests>=2.7.0->sumy) (2.0.7)\n",
            "Requirement already satisfied: certifi>=2017.4.17 in /usr/local/lib/python3.10/dist-packages (from requests>=2.7.0->sumy) (2024.7.4)\n",
            "Requirement already satisfied: konlpy in /usr/local/lib/python3.10/dist-packages (0.6.0)\n",
            "Requirement already satisfied: JPype1>=0.7.0 in /usr/local/lib/python3.10/dist-packages (from konlpy) (1.5.0)\n",
            "Requirement already satisfied: lxml>=4.1.0 in /usr/local/lib/python3.10/dist-packages (from konlpy) (4.9.4)\n",
            "Requirement already satisfied: numpy>=1.6 in /usr/local/lib/python3.10/dist-packages (from konlpy) (1.26.4)\n",
            "Requirement already satisfied: packaging in /usr/local/lib/python3.10/dist-packages (from JPype1>=0.7.0->konlpy) (24.1)\n",
            "‘ 곧 공개’ 애플 신제품…“ 한국, 사상 첫 1차 출시 국 될 수도” 왜? 본문 바로 가기 NAVER 뉴스 연예 스포츠 날씨 프리미엄 검색 언론사별 정치 경제 사회 생활/ 문화 IT/ 과학 세계 랭킹 신문 보기 오피니언 TV 팩트 체크 알고리즘 안내 정정보도 모음 구독 서울신문 언론사 구독되었습니다.\n",
            "언론사별 바로 가기 닫기 ‘ 곧 공개’ 애플 신제품…“ 한국, 사상 첫 1차 출시 국 될 수도” 왜? 입력 2024.08.27. 오전 11:33 기사원 문 윤 예림 기자 윤 예림 기자 구독 구독 중 구독자 0 응원 수 0 더 보기 추천 쏠쏠 정보 0 흥미 진진 0 공감 백배 0 분석 탁월 0 후속 강추 0 댓 글 본문 요약 봇 본문 요약 봇 도움말 자동 추출 기술로 요약된 내용입니다.\n",
            "본문 듣기 시작 닫기 글자 크기 변경하기 가 1 단계 작게 가 2 단계 보통 가 3 단계 크게 가 4 단계 아주 크게 가 5 단계 최대 크게 SNS 보내기 인쇄 하기 애플, 다음 달 9일 아이 폰 16 공개 “ 한국, 아이 폰 16 1차 출시 국 가능성 커” 아이 폰 14 프로. AP 연합 뉴스 아이 폰 제조업체 애플이 다음 달 9일( 현지시간) 자 사의 최신 스마트 폰 아이 폰 16 시리즈를 공개하는 가운데, 한국이 아이 폰 등장 이래 첫 1차 출시 국에 포함될 수 있다는 관측이 나오고 있다.\n"
          ]
        }
      ]
    },
    {
      "cell_type": "code",
      "source": [
        "!pip install nltk scikit-learn"
      ],
      "metadata": {
        "colab": {
          "base_uri": "https://localhost:8080/"
        },
        "id": "WnUGhN73Wt4k",
        "outputId": "244dac63-c8d1-462b-c4fc-56af8ae9f9f3"
      },
      "execution_count": 26,
      "outputs": [
        {
          "output_type": "stream",
          "name": "stdout",
          "text": [
            "Requirement already satisfied: nltk in /usr/local/lib/python3.10/dist-packages (3.8.1)\n",
            "Requirement already satisfied: scikit-learn in /usr/local/lib/python3.10/dist-packages (1.3.2)\n",
            "Requirement already satisfied: click in /usr/local/lib/python3.10/dist-packages (from nltk) (8.1.7)\n",
            "Requirement already satisfied: joblib in /usr/local/lib/python3.10/dist-packages (from nltk) (1.4.2)\n",
            "Requirement already satisfied: regex>=2021.8.3 in /usr/local/lib/python3.10/dist-packages (from nltk) (2024.5.15)\n",
            "Requirement already satisfied: tqdm in /usr/local/lib/python3.10/dist-packages (from nltk) (4.66.5)\n",
            "Requirement already satisfied: numpy<2.0,>=1.17.3 in /usr/local/lib/python3.10/dist-packages (from scikit-learn) (1.26.4)\n",
            "Requirement already satisfied: scipy>=1.5.0 in /usr/local/lib/python3.10/dist-packages (from scikit-learn) (1.13.1)\n",
            "Requirement already satisfied: threadpoolctl>=2.0.0 in /usr/local/lib/python3.10/dist-packages (from scikit-learn) (3.5.0)\n"
          ]
        }
      ]
    },
    {
      "cell_type": "code",
      "source": [
        "from konlpy.tag import Okt\n",
        "from sklearn.feature_extraction.text import TfidfVectorizer\n",
        "import re\n",
        "\n",
        "# Okt 형태소 분석기 초기화\n",
        "okt = Okt()\n",
        "\n",
        "# 한국어 텍스트 전처리 및 키워드 추출 함수\n",
        "def extract_keywords(text, num_keywords=5):\n",
        "    # 텍스트 전처리: 특수 문자 제거 및 소문자 변환\n",
        "    text = re.sub(r'[^ㄱ-ㅎㅏ-ㅣ가-힣\\s]', '', text)\n",
        "\n",
        "    # 형태소 분석을 통해 명사 추출\n",
        "    nouns = okt.nouns(text)\n",
        "\n",
        "    # TF-IDF 벡터화\n",
        "    vectorizer = TfidfVectorizer(max_features=num_keywords)\n",
        "    tfidf_matrix = vectorizer.fit_transform([' '.join(nouns)])\n",
        "\n",
        "    # 키워드 추출\n",
        "    feature_names = vectorizer.get_feature_names_out()\n",
        "    sorted_items = sorted(zip(vectorizer.idf_, feature_names))\n",
        "\n",
        "    # 상위 키워드 추출\n",
        "    keywords = [item[1] for item in sorted_items[:num_keywords]]\n",
        "\n",
        "    return keywords\n",
        "\n",
        "# 요약된 문장 (예시)\n",
        "summary_text = str(summary)\n",
        "\n",
        "# 키워드 추출\n",
        "keywords = extract_keywords(summary_text, num_keywords=5)\n",
        "print(\"Extracted Keywords:\", keywords)\n"
      ],
      "metadata": {
        "colab": {
          "base_uri": "https://localhost:8080/"
        },
        "id": "3LwyuMSLWvsP",
        "outputId": "a291152e-19c6-458a-beb0-c8a06f10f019"
      },
      "execution_count": 31,
      "outputs": [
        {
          "output_type": "stream",
          "name": "stdout",
          "text": [
            "Extracted Keywords: ['공개', '단계', '아이', '애플', '한국']\n"
          ]
        }
      ]
    },
    {
      "cell_type": "code",
      "source": [],
      "metadata": {
        "id": "r-NGzE1AkGLa"
      },
      "execution_count": null,
      "outputs": []
    }
  ]
}
