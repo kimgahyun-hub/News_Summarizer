{
  "nbformat": 4,
  "nbformat_minor": 0,
  "metadata": {
    "colab": {
      "provenance": []
    },
    "kernelspec": {
      "name": "python3",
      "display_name": "Python 3"
    },
    "language_info": {
      "name": "python"
    }
  },
  "cells": [
    {
      "cell_type": "code",
      "execution_count": 1,
      "metadata": {
        "colab": {
          "base_uri": "https://localhost:8080/"
        },
        "id": "YbZyQ76gz4bw",
        "outputId": "1e213910-652a-4894-a090-80f92ed0d1dc"
      },
      "outputs": [
        {
          "output_type": "stream",
          "name": "stdout",
          "text": [
            "Collecting newsapi-python\n",
            "  Downloading newsapi_python-0.2.7-py2.py3-none-any.whl.metadata (1.2 kB)\n",
            "Requirement already satisfied: requests<3.0.0 in /usr/local/lib/python3.10/dist-packages (from newsapi-python) (2.32.3)\n",
            "Requirement already satisfied: charset-normalizer<4,>=2 in /usr/local/lib/python3.10/dist-packages (from requests<3.0.0->newsapi-python) (3.3.2)\n",
            "Requirement already satisfied: idna<4,>=2.5 in /usr/local/lib/python3.10/dist-packages (from requests<3.0.0->newsapi-python) (3.7)\n",
            "Requirement already satisfied: urllib3<3,>=1.21.1 in /usr/local/lib/python3.10/dist-packages (from requests<3.0.0->newsapi-python) (2.0.7)\n",
            "Requirement already satisfied: certifi>=2017.4.17 in /usr/local/lib/python3.10/dist-packages (from requests<3.0.0->newsapi-python) (2024.7.4)\n",
            "Downloading newsapi_python-0.2.7-py2.py3-none-any.whl (7.9 kB)\n",
            "Installing collected packages: newsapi-python\n",
            "Successfully installed newsapi-python-0.2.7\n"
          ]
        }
      ],
      "source": [
        "!pip install newsapi-python"
      ]
    },
    {
      "cell_type": "code",
      "source": [
        "import requests\n",
        "\n",
        "# NewsAPI 키 설정\n",
        "api_key = 'f8fb33643015457285d7304fa5788ab1'\n",
        "\n",
        "# API 요청 URL\n",
        "url = 'https://newsapi.org/v2/top-headlines'\n",
        "#url = 'https://newsapi.org/v2/everything'\n",
        "\n",
        "categories = {\n",
        "    '경제': 'business',\n",
        "    'IT': 'technology',\n",
        "    '과학': 'science',\n",
        "    '사회': 'general',\n",
        "    '문화': 'entertainment',\n",
        "    '스포츠': 'sports',\n",
        "    '건강': 'health'\n",
        "}\n",
        "\n",
        "# 사용자로부터 카테고리 선택 받기\n",
        "print(\"카테고리를 선택하세요: 경제, IT, 과학, 사회, 문화, 스포츠, 건강\")\n",
        "user_choice = input(\"선택한 카테고리: \")\n",
        "\n",
        "# 유효한 카테고리인지 확인\n",
        "if user_choice in categories:\n",
        "    selected_category = categories[user_choice]\n",
        "else:\n",
        "    print(\"유효하지 않은 카테고리입니다. 기본적으로 '경제' 카테고리를 선택합니다.\")\n",
        "    selected_category = 'business'\n",
        "\n",
        "# 파라미터 설정\n",
        "params = {\n",
        "    'country': 'kr',       # 한국 뉴스\n",
        "    'category': selected_category,\n",
        "    'sortBy': 'relevancy',\n",
        "    'pageSize': 5,         # 5개의 뉴스 가져오기\n",
        "    'apiKey': api_key      # API 키\n",
        "}\n",
        "\n",
        "# API 요청\n",
        "response = requests.get(url, params=params)\n",
        "\n",
        "# 응답을 JSON 형태로 파싱\n",
        "data = response.json()\n",
        "\n",
        "# 뉴스 정보 출력\n",
        "if data['status'] == 'ok':\n",
        "    articles = data['articles']\n",
        "    for i, article in enumerate(articles, 1):\n",
        "        title = article['title']\n",
        "        content = article['content']  if article['content'] else \"내용이 제공되지 않았습니다.\"\n",
        "        url = article['url']\n",
        "        published_at = article['publishedAt']\n",
        "\n",
        "        print(f\"뉴스 {i}:\")\n",
        "        print(f\"제목: {title}\")\n",
        "        print(f\"내용: {content}\")\n",
        "        print(f\"URL: {url}\")\n",
        "        print(f\"발행일: {published_at}\")\n",
        "        print(\"-\" * 80)\n",
        "else:\n",
        "    print(\"뉴스를 가져오는데 실패했습니다.\")\n"
      ],
      "metadata": {
        "colab": {
          "base_uri": "https://localhost:8080/"
        },
        "id": "XZ4yhRrqz9V7",
        "outputId": "6b8294f5-af40-4cbc-901e-dff84b067f18"
      },
      "execution_count": 17,
      "outputs": [
        {
          "output_type": "stream",
          "name": "stdout",
          "text": [
            "카테고리를 선택하세요: 경제, IT, 과학, 사회, 문화, 스포츠, 건강\n",
            "선택한 카테고리: 경제\n",
            "뉴스 1:\n",
            "제목: 검찰, 티몬·위메프 경영진 4명 주거지 추가 압수수색 - 한겨레\n",
            "내용: 내용이 제공되지 않았습니다.\n",
            "URL: https://news.google.com/rss/articles/CBMickFVX3lxTE9fTzR0OWE1TVEwV2pKRDRzTHRadmk4c183cGVER0pCX3RHVmw3Z09xaW9wNU9IMEhJaDU5UDkxZnZwZ2FyaHc4WHJnZHJqbG44NXM0c1Fnc1BuVmtIREo1UklKcXZ2ci10VWtNTVl0RTNyUQ?oc=5\n",
            "발행일: 2024-08-26T07:47:00Z\n",
            "--------------------------------------------------------------------------------\n",
            "뉴스 2:\n",
            "제목: 공정위, 롯데마트 현장조사 착수...납품업체 판촉비 전가 혐의 - 뉴스핌\n",
            "내용: 내용이 제공되지 않았습니다.\n",
            "URL: https://news.google.com/rss/articles/CBMiXEFVX3lxTE0wdkJGbnNnQjNEVlZIUHgxSzRCd0ZjMnlwRXk2VHlULVExeWx0Z0NicjN5V0N4UDRNUFRfQmlta1dNZUVHUmJTVkxiSDktSElFajc2N1EwS1VDWF9T0gFeQVVfeXFMT1I5RDRVa21xcXo4emRjRzVDREZ1OHNUemVsNTZ3ZE5KeFVjV1VadkM0VDBTSTZpOV9zRjFWSWtuWHBDcThKRXVQSlhqZFZfeUh6UW5zR0RRcHpYMW5Bdw?oc=5\n",
            "발행일: 2024-08-26T07:25:00Z\n",
            "--------------------------------------------------------------------------------\n",
            "뉴스 3:\n",
            "제목: [포토] 국회 정무위 참석한 김병환 금융위원장 - 매일경제\n",
            "내용: 내용이 제공되지 않았습니다.\n",
            "URL: https://news.google.com/rss/articles/CBMiVkFVX3lxTE1LM2QzYUJhMnlaZ2NuMHdiU2Fyc05TU3RhZzRPS29hMDVfWXlwRDVEMzdBZWJmSE55UTNzbi1VQUlXLWdTbjJnbmdKMmRTSUNvSkpjZldB?oc=5\n",
            "발행일: 2024-08-26T07:21:13Z\n",
            "--------------------------------------------------------------------------------\n",
            "뉴스 4:\n",
            "제목: 일동제약그룹 유노비아 “GLP-1 유사체 임상 1상 후속시험 계획 승인” - 조선일보\n",
            "내용: 내용이 제공되지 않았습니다.\n",
            "URL: https://news.google.com/rss/articles/CBMigwFBVV95cUxQLWw0VnczTFpBWk5uejFjRVRjbXE4eFFNc0k4cXNRM0tudFFxTVg0UFpmOGFablU4WkdDakZsS19Jd2ZPMWJoT2IxcFlJc1M5T1J1VWRzc3hGelF1ejBKNFktT1ItaWxaVy1DYnh3NDhpQjBpUTRNeUozNVEtb3ZNLUQ4SdIBlwFBVV95cUxQMlhrZnhKQU9xUzYtY2s4WXM0ZmgwRF9VRXFacGM4YlVsWHRkVmV2bVdUWld2NkgxdEFvOFJUQ0s1SlpoSXBFNjJmTmltS0dVclpCaTk1OFZ1dGs0VnVSNHdneG9JNlNFenZIZFVjczlWRlUyYXdxZERpQ0xqWXNTN256RzNrUk04TlM5T3FEVTJmdU8ySExn?oc=5\n",
            "발행일: 2024-08-26T07:01:00Z\n",
            "--------------------------------------------------------------------------------\n",
            "뉴스 5:\n",
            "제목: 대통령실 \"尹정부 국가부채 120조 증가 그쳐…文정부는 400조\" - 한국경제\n",
            "내용: 내용이 제공되지 않았습니다.\n",
            "URL: https://news.google.com/rss/articles/CBMiWkFVX3lxTFA0QmZzNm9waTdEMFhXeS10SlViV1lDa3ozdmlyRE9xaEJ6MjJGUW13NGVjSk82Y2Z3V3V3MTdIeFViaDdKMUFPc1NidlJzRE9zRVV6M21JWm9zUdIBVEFVX3lxTFBMYXk3S2RVaWFOU1EwVUFqMFNjdTl1dm4yRVo3aHRNbHMycTN5UjZzcTNkUm02MUkyeFpyM09UUG9lLS1WdTNBVms5NnVuVEJ0MjBVWA?oc=5\n",
            "발행일: 2024-08-26T06:52:56Z\n",
            "--------------------------------------------------------------------------------\n"
          ]
        }
      ]
    },
    {
      "cell_type": "code",
      "source": [],
      "metadata": {
        "id": "1F5JAk3A1I9T"
      },
      "execution_count": null,
      "outputs": []
    }
  ]
}
