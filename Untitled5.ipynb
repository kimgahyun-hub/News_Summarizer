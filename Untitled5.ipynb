{
  "nbformat": 4,
  "nbformat_minor": 0,
  "metadata": {
    "colab": {
      "provenance": []
    },
    "kernelspec": {
      "name": "python3",
      "display_name": "Python 3"
    },
    "language_info": {
      "name": "python"
    }
  },
  "cells": [
    {
      "cell_type": "code",
      "source": [
        "!pip install requests beautifulsoup4\n"
      ],
      "metadata": {
        "colab": {
          "base_uri": "https://localhost:8080/"
        },
        "id": "iIn_oy2hZ4b4",
        "outputId": "58446b70-7f73-4810-b16c-b7750aeb55b6"
      },
      "execution_count": 12,
      "outputs": [
        {
          "output_type": "stream",
          "name": "stdout",
          "text": [
            "Requirement already satisfied: requests in /usr/local/lib/python3.10/dist-packages (2.32.3)\n",
            "Requirement already satisfied: beautifulsoup4 in /usr/local/lib/python3.10/dist-packages (4.12.3)\n",
            "Requirement already satisfied: charset-normalizer<4,>=2 in /usr/local/lib/python3.10/dist-packages (from requests) (3.3.2)\n",
            "Requirement already satisfied: idna<4,>=2.5 in /usr/local/lib/python3.10/dist-packages (from requests) (3.7)\n",
            "Requirement already satisfied: urllib3<3,>=1.21.1 in /usr/local/lib/python3.10/dist-packages (from requests) (2.0.7)\n",
            "Requirement already satisfied: certifi>=2017.4.17 in /usr/local/lib/python3.10/dist-packages (from requests) (2024.7.4)\n",
            "Requirement already satisfied: soupsieve>1.2 in /usr/local/lib/python3.10/dist-packages (from beautifulsoup4) (2.6)\n"
          ]
        }
      ]
    },
    {
      "cell_type": "code",
      "source": [
        "import requests\n",
        "from bs4 import BeautifulSoup\n",
        "\n",
        "def extract_text_from_url(url):\n",
        "    try:\n",
        "        # 웹페이지 내용 요청\n",
        "        response = requests.get(url)\n",
        "\n",
        "        # 요청이 성공했는지 확인\n",
        "        if response.status_code != 200:\n",
        "            print(f\"Failed to retrieve the web page. Status code: {response.status_code}\")\n",
        "            return \"\"\n",
        "\n",
        "        # BeautifulSoup을 사용하여 HTML 파싱\n",
        "        soup = BeautifulSoup(response.content, 'html.parser')\n",
        "\n",
        "        # 불필요한 스크립트 및 스타일 태그 제거\n",
        "        for script_or_style in soup(['script', 'style']):\n",
        "            script_or_style.decompose()\n",
        "\n",
        "        # 모든 텍스트 추출\n",
        "        text = soup.get_text(separator=' ')\n",
        "\n",
        "        # 앞뒤 불필요한 공백 제거\n",
        "        text = ' '.join(text.split())\n",
        "\n",
        "        return text\n",
        "\n",
        "    except requests.exceptions.RequestException as e:\n",
        "        print(f\"Error during requests to {url}: {str(e)}\")\n",
        "        return \"\"\n",
        "\n",
        "# 테스트 URL\n",
        "url = 'https://n.news.naver.com/mnews/article/081/0003475277'  # 여기에 실제 뉴스 기사 URL을 입력하세요\n",
        "extracted_text = extract_text_from_url(url)\n",
        "\n",
        "# 추출된 텍스트 출력 (처음 3000자만 출력)\n",
        "article=extracted_text[:3000]\n",
        "print(article)\n"
      ],
      "metadata": {
        "colab": {
          "base_uri": "https://localhost:8080/"
        },
        "id": "Ilw1AEUjZ8CC",
        "outputId": "b7eb4dbe-77af-40cd-8c74-e9afa325d129"
      },
      "execution_count": 24,
      "outputs": [
        {
          "output_type": "stream",
          "name": "stdout",
          "text": [
            "‘곧 공개’ 애플 신제품…“한국, 사상 첫 1차 출시국 될 수도” 왜? 본문 바로가기 NAVER 뉴스 연예 스포츠 날씨 프리미엄 검색 언론사별 정치 경제 사회 생활/문화 IT/과학 세계 랭킹 신문보기 오피니언 TV 팩트체크 알고리즘 안내 정정보도 모음 구독 서울신문 언론사 구독되었습니다. 메인 뉴스판에서 주요뉴스를 볼 수 있습니다. 보러가기 서울신문 언론사 구독 해지되었습니다. PICK 안내 언론사가 주요기사로 선정한 기사입니다. 언론사별 바로가기 닫기 ‘곧 공개’ 애플 신제품…“한국, 사상 첫 1차 출시국 될 수도” 왜? 입력 2024.08.27. 오전 11:33 기사원문 윤예림 기자 윤예림 기자 구독 구독중 구독자 0 응원수 0 더보기 추천 쏠쏠정보 0 흥미진진 0 공감백배 0 분석탁월 0 후속강추 0 댓글 본문 요약봇 본문 요약봇 도움말 자동 추출 기술로 요약된 내용입니다. 요약 기술의 특성상 본문의 주요 내용이 제외될 수 있어, 전체 맥락을 이해하기 위해서는 기사 본문 전체보기를 권장합니다. 닫기 텍스트 음성 변환 서비스 사용하기 성별 남성 여성 말하기 속도 느림 보통 빠름 이동 통신망을 이용하여 음성을 재생하면 별도의 데이터 통화료가 부과될 수 있습니다. 본문듣기 시작 닫기 글자 크기 변경하기 가 1단계 작게 가 2단계 보통 가 3단계 크게 가 4단계 아주크게 가 5단계 최대크게 SNS 보내기 인쇄하기 애플, 다음 달 9일 아이폰16 공개 “한국, 아이폰16 1차 출시국 가능성 커” 아이폰14 프로. AP 연합뉴스 아이폰 제조업체 애플이 다음 달 9일(현지시간) 자사의 최신 스마트폰 아이폰16 시리즈를 공개하는 가운데, 한국이 아이폰 등장 이래 첫 1차 출시국에 포함될 수 있다는 관측이 나오고 있다. 26일 애플은 다음 달 9일(한국시간 9월 10일) 미 캘리포니아주 쿠퍼티노 본사에서 신제품 공개 이벤트를 연다고 밝혔다. 애플은 그동안 매년 9~10월에 최신 아이폰 등을 공개해 왔으며, 최근 수년간에는 행사가 9월로 집중됐다. 현지 매체 등은 애초 애플이 다음 달 10일 행사를 개최할 것으로 예상했으나, 일정은 이보다 하루 더 앞당겨졌다. 블룸버그 통신은 “소식통에 따르면 애플이 10일 행사 개최를 준비하고 있었지만 하루 앞당겼다”며 “10일은 (민주당 대통령 후보인) 카멀라 해리스 부통령과 공화당 후보 도널드 트럼프 전 대통령 간 첫 번째 대선 토론회가 예정된 날짜”라고 전했다. ‘이제 새롭게 빛나다’(It‘s Glowtime)라는 이름의 이번 행사에는 아이폰16과 애플워치10, 에어팟 등이 새롭게 발표될 예정이다. 韓, 1차 출시국 될 수도…아이폰 등장 이래 처음 통신업계에서는 한국이 아이폰16 1차 출시국에 포함될 것으로 보고 있다. 업계 관계자는 “출시일을 확정할 수는 없지만 업계는 1차 출시가 된다고 생각하고 있다”며 “1차 출시국이 맞는다면 9일 고액 이후 바로 사전 예약에 들어갈 것”이라고 말했다. 그간 애플은 한국을 2차 또는 그 이후 출시국으로 분류해 1차 출시국 출시 이후 약 한달여 뒤에 제품을 출시해왔다. 그러나 핵심 시장인 중국에서 중국 정부의 규제와 현지 업체와의 경쟁으로 판매 부진을 겪는 애플이 그간 경시해오던 한국 등 아시아 국가를 1차 출시국에 포함할 확률이 높아졌다는 게 업계 분석이다. 특히 한국에서 아이폰의 인기가 높아지면서 가능성이 커졌다. 한국이 1차 출시국이 되면 애플로서는 인공지능(AI) 스마트폰을 선점한 삼성전자 안방에서 정면 대결하는 효과를 기대할 수 있다는 평가도 나온다. 팀 쿡 애플 최고경영자(CEO)는 지난 1분기 실적 발표에서 “생성형 AI로 애플에 큰 기회가 있다”며 지난 몇 년간 생성형 AI에 엄청난 시간과 노력을 투자하고 있다고 발표한 바 있다. 애플 생중계. 애플 제공 한편 아이폰16은 고급 모델인 프로의 스크린이 더 커지고 사진 촬영 전용 버튼 등 새로운 카메라 기능이 추가될 것으로 예상된다. 또 아이폰16에 탑재되는 새로운 운영체제 iOS18도 발표된다. 여기에는 애플 인텔리전스라는 자체 AI 기능이 탑재된다. 애플워치 등 새로운 웨어러블 기기도 공개된다. 출시 10주년을 맞는 애플워치 시리즈는 더 얇아지면서 스크린은 더 커질 것으로 예상된다. 에어팟은 새로운 보급형과 중간급 모델로 개편돼 중간급 모델에는 소음 기능이 접목되고, 보급형 모델은 2019년 이후 처음으로 업데이트가 이뤄질 것으로 관측되고 있다. 윤예림 기자 기자 프로필 윤예림 기자 구독 구독중 구독자 0 응원수 0 안녕하세요. 서울신문 윤예림입니다. “여배우와 불륜하던 곳” 숲속 즐겨찾더니…이젠 ‘골칫거리’ 됐다 “한국인들, 日 오려면 ‘이것’ 먼저 해야”…앞으로 달라진다는데 서울신문의 구독 많은 기자를 구독해보세요! 닫기 Copyright ⓒ 서울신문. All rights reserved. 무단 전재 및 재배포 금지. 이 기사는 언론사에서 IT , 사회 섹션으로 분류했습니다. 기사 섹션 분류 안내 기사의 섹션 정보는 해당 언론사의 분류를 따르고 있습니다. 언론사는 개별 기사를 2개 이상 섹션으로 중복 분류할 수 있습니다. 닫기 구독 메인에서 바로 보는 언론사 편집 뉴스 지금 바로 구독해보세요! 구독중 메인에서 바로 보는 언론사 편집 뉴스 지금 바로 확인해보세요! 매주 놀라운 소식, 서울신문 뉴스레터 구독하기 서울신문 사이트에서 더 많은 기사 확인하기 주요뉴스 해당 언론사에서 선정하며 언론사 페이지(아웃링크) 로 이동해 볼 수 있습니다. 김남일, 인터뷰 중 아나운서 껴안고 욕먹어…\"그냥 안고 싶었다\" 표창원 아들 방송 출연…영화배우 얼굴 '깜짝' 성형수술에 49억 쓴 여성…이혼 위자료로 '3조' 받은 사연 53세 션, 충격적인 건강 상태…\"이런 사람은 처음\" 의사도 '깜짝' 전종서도 시구할 때 입었는데…'레깅스' 찾던 여성들 돌변한 이유 이 기사를 추천합니다 기사 추천은 24시간 내 50회까지 참여할 수 있습니다. 닫기 쏠쏠정보 0 흥미진진 0 공감백배 0 분석탁월 0 후속강추 0 모두에게 보여주고 싶은 기사라면 ? beta 이 기사를 추천합니다 버튼을 눌러주세요. 집계 기간 동안 추천을 많이 받은 기사는 네이버 자동 기사배열 영역에 추\n"
          ]
        }
      ]
    },
    {
      "cell_type": "code",
      "source": [
        "#일단 요약할 수 있는 거라도 만들자 해서 요약 잘되는 것으로.\n",
        "# 필요한 라이브러리 설치\n",
        "!pip install sumy\n",
        "!pip install konlpy\n",
        "\n",
        "# 라이브러리 가져오기\n",
        "from sumy.parsers.plaintext import PlaintextParser\n",
        "from sumy.nlp.tokenizers import Tokenizer\n",
        "from sumy.summarizers.text_rank import TextRankSummarizer\n",
        "\n",
        "# 요약할 텍스트\n",
        "article_text = article\n",
        "\n",
        "# 텍스트 파싱\n",
        "parser = PlaintextParser.from_string(article_text, Tokenizer(\"korean\"))\n",
        "\n",
        "# TextRank Summarizer 생성\n",
        "summarizer = TextRankSummarizer()\n",
        "\n",
        "# 요약 (3문장으로 요약)\n",
        "summary = summarizer(parser.document, 3)\n",
        "for sentence in summary:\n",
        "    print(sentence)\n",
        "    sentence=summary\n"
      ],
      "metadata": {
        "colab": {
          "base_uri": "https://localhost:8080/"
        },
        "id": "pgBhIA9Jlkvb",
        "outputId": "6da12bd9-241a-4664-8f76-1ab7a863e9ef"
      },
      "execution_count": 30,
      "outputs": [
        {
          "output_type": "stream",
          "name": "stdout",
          "text": [
            "Requirement already satisfied: sumy in /usr/local/lib/python3.10/dist-packages (0.11.0)\n",
            "Requirement already satisfied: docopt<0.7,>=0.6.1 in /usr/local/lib/python3.10/dist-packages (from sumy) (0.6.2)\n",
            "Requirement already satisfied: breadability>=0.1.20 in /usr/local/lib/python3.10/dist-packages (from sumy) (0.1.20)\n",
            "Requirement already satisfied: requests>=2.7.0 in /usr/local/lib/python3.10/dist-packages (from sumy) (2.32.3)\n",
            "Requirement already satisfied: pycountry>=18.2.23 in /usr/local/lib/python3.10/dist-packages (from sumy) (24.6.1)\n",
            "Requirement already satisfied: nltk>=3.0.2 in /usr/local/lib/python3.10/dist-packages (from sumy) (3.8.1)\n",
            "Requirement already satisfied: chardet in /usr/local/lib/python3.10/dist-packages (from breadability>=0.1.20->sumy) (5.2.0)\n",
            "Requirement already satisfied: lxml>=2.0 in /usr/local/lib/python3.10/dist-packages (from breadability>=0.1.20->sumy) (4.9.4)\n",
            "Requirement already satisfied: click in /usr/local/lib/python3.10/dist-packages (from nltk>=3.0.2->sumy) (8.1.7)\n",
            "Requirement already satisfied: joblib in /usr/local/lib/python3.10/dist-packages (from nltk>=3.0.2->sumy) (1.4.2)\n",
            "Requirement already satisfied: regex>=2021.8.3 in /usr/local/lib/python3.10/dist-packages (from nltk>=3.0.2->sumy) (2024.5.15)\n",
            "Requirement already satisfied: tqdm in /usr/local/lib/python3.10/dist-packages (from nltk>=3.0.2->sumy) (4.66.5)\n",
            "Requirement already satisfied: charset-normalizer<4,>=2 in /usr/local/lib/python3.10/dist-packages (from requests>=2.7.0->sumy) (3.3.2)\n",
            "Requirement already satisfied: idna<4,>=2.5 in /usr/local/lib/python3.10/dist-packages (from requests>=2.7.0->sumy) (3.7)\n",
            "Requirement already satisfied: urllib3<3,>=1.21.1 in /usr/local/lib/python3.10/dist-packages (from requests>=2.7.0->sumy) (2.0.7)\n",
            "Requirement already satisfied: certifi>=2017.4.17 in /usr/local/lib/python3.10/dist-packages (from requests>=2.7.0->sumy) (2024.7.4)\n",
            "Requirement already satisfied: konlpy in /usr/local/lib/python3.10/dist-packages (0.6.0)\n",
            "Requirement already satisfied: JPype1>=0.7.0 in /usr/local/lib/python3.10/dist-packages (from konlpy) (1.5.0)\n",
            "Requirement already satisfied: lxml>=4.1.0 in /usr/local/lib/python3.10/dist-packages (from konlpy) (4.9.4)\n",
            "Requirement already satisfied: numpy>=1.6 in /usr/local/lib/python3.10/dist-packages (from konlpy) (1.26.4)\n",
            "Requirement already satisfied: packaging in /usr/local/lib/python3.10/dist-packages (from JPype1>=0.7.0->konlpy) (24.1)\n",
            "‘ 곧 공개’ 애플 신제품…“ 한국, 사상 첫 1차 출시 국 될 수도” 왜? 본문 바로 가기 NAVER 뉴스 연예 스포츠 날씨 프리미엄 검색 언론사별 정치 경제 사회 생활/ 문화 IT/ 과학 세계 랭킹 신문 보기 오피니언 TV 팩트 체크 알고리즘 안내 정정보도 모음 구독 서울신문 언론사 구독되었습니다.\n",
            "언론사별 바로 가기 닫기 ‘ 곧 공개’ 애플 신제품…“ 한국, 사상 첫 1차 출시 국 될 수도” 왜? 입력 2024.08.27. 오전 11:33 기사원 문 윤 예림 기자 윤 예림 기자 구독 구독 중 구독자 0 응원 수 0 더 보기 추천 쏠쏠 정보 0 흥미 진진 0 공감 백배 0 분석 탁월 0 후속 강추 0 댓 글 본문 요약 봇 본문 요약 봇 도움말 자동 추출 기술로 요약된 내용입니다.\n",
            "본문 듣기 시작 닫기 글자 크기 변경하기 가 1 단계 작게 가 2 단계 보통 가 3 단계 크게 가 4 단계 아주 크게 가 5 단계 최대 크게 SNS 보내기 인쇄 하기 애플, 다음 달 9일 아이 폰 16 공개 “ 한국, 아이 폰 16 1차 출시 국 가능성 커” 아이 폰 14 프로. AP 연합 뉴스 아이 폰 제조업체 애플이 다음 달 9일( 현지시간) 자 사의 최신 스마트 폰 아이 폰 16 시리즈를 공개하는 가운데, 한국이 아이 폰 등장 이래 첫 1차 출시 국에 포함될 수 있다는 관측이 나오고 있다.\n"
          ]
        }
      ]
    },
    {
      "cell_type": "code",
      "source": [
        "!pip install nltk scikit-learn"
      ],
      "metadata": {
        "colab": {
          "base_uri": "https://localhost:8080/"
        },
        "id": "WnUGhN73Wt4k",
        "outputId": "244dac63-c8d1-462b-c4fc-56af8ae9f9f3"
      },
      "execution_count": 26,
      "outputs": [
        {
          "output_type": "stream",
          "name": "stdout",
          "text": [
            "Requirement already satisfied: nltk in /usr/local/lib/python3.10/dist-packages (3.8.1)\n",
            "Requirement already satisfied: scikit-learn in /usr/local/lib/python3.10/dist-packages (1.3.2)\n",
            "Requirement already satisfied: click in /usr/local/lib/python3.10/dist-packages (from nltk) (8.1.7)\n",
            "Requirement already satisfied: joblib in /usr/local/lib/python3.10/dist-packages (from nltk) (1.4.2)\n",
            "Requirement already satisfied: regex>=2021.8.3 in /usr/local/lib/python3.10/dist-packages (from nltk) (2024.5.15)\n",
            "Requirement already satisfied: tqdm in /usr/local/lib/python3.10/dist-packages (from nltk) (4.66.5)\n",
            "Requirement already satisfied: numpy<2.0,>=1.17.3 in /usr/local/lib/python3.10/dist-packages (from scikit-learn) (1.26.4)\n",
            "Requirement already satisfied: scipy>=1.5.0 in /usr/local/lib/python3.10/dist-packages (from scikit-learn) (1.13.1)\n",
            "Requirement already satisfied: threadpoolctl>=2.0.0 in /usr/local/lib/python3.10/dist-packages (from scikit-learn) (3.5.0)\n"
          ]
        }
      ]
    },
    {
      "cell_type": "code",
      "source": [
        "from konlpy.tag import Okt\n",
        "from sklearn.feature_extraction.text import TfidfVectorizer\n",
        "import re\n",
        "\n",
        "# Okt 형태소 분석기 초기화\n",
        "okt = Okt()\n",
        "\n",
        "# 한국어 텍스트 전처리 및 키워드 추출 함수\n",
        "def extract_keywords(text, num_keywords=5):\n",
        "    # 텍스트 전처리: 특수 문자 제거 및 소문자 변환\n",
        "    text = re.sub(r'[^ㄱ-ㅎㅏ-ㅣ가-힣\\s]', '', text)\n",
        "\n",
        "    # 형태소 분석을 통해 명사 추출\n",
        "    nouns = okt.nouns(text)\n",
        "\n",
        "    # TF-IDF 벡터화\n",
        "    vectorizer = TfidfVectorizer(max_features=num_keywords)\n",
        "    tfidf_matrix = vectorizer.fit_transform([' '.join(nouns)])\n",
        "\n",
        "    # 키워드 추출\n",
        "    feature_names = vectorizer.get_feature_names_out()\n",
        "    sorted_items = sorted(zip(vectorizer.idf_, feature_names))\n",
        "\n",
        "    # 상위 키워드 추출\n",
        "    keywords = [item[1] for item in sorted_items[:num_keywords]]\n",
        "\n",
        "    return keywords\n",
        "\n",
        "# 요약된 문장 (예시)\n",
        "summary_text = str(summary)\n",
        "\n",
        "# 키워드 추출\n",
        "keywords = extract_keywords(summary_text, num_keywords=5)\n",
        "print(\"Extracted Keywords:\", keywords)\n"
      ],
      "metadata": {
        "colab": {
          "base_uri": "https://localhost:8080/"
        },
        "id": "3LwyuMSLWvsP",
        "outputId": "a291152e-19c6-458a-beb0-c8a06f10f019"
      },
      "execution_count": 31,
      "outputs": [
        {
          "output_type": "stream",
          "name": "stdout",
          "text": [
            "Extracted Keywords: ['공개', '단계', '아이', '애플', '한국']\n"
          ]
        }
      ]
    },
    {
      "cell_type": "code",
      "source": [],
      "metadata": {
        "id": "r-NGzE1AkGLa"
      },
      "execution_count": null,
      "outputs": []
    }
  ]
}